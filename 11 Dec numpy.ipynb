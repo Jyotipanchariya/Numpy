{
 "cells": [
  {
   "cell_type": "code",
   "execution_count": 3,
   "id": "617be296-3d77-499a-8312-28fc449ceb75",
   "metadata": {},
   "outputs": [],
   "source": [
    "#Numpy==> Numerical Python ==> open source library==> for scientific calculation\n",
    "\n",
    "#list ==> Mutable, Computation power easy\n",
    "\n",
    "#Difference between List and Numpy?\n",
    "\n",
    "# 1. Memory usage==> List (High) , Numpy(low)\n",
    "\n",
    "#2. Time Consuming ==> List (High), Numpy(low)\n",
    "\n",
    "#3.List==> different -different type elements\n",
    "\n",
    "#Numpy ==> Arra format\n",
    "\n"
   ]
  },
  {
   "cell_type": "code",
   "execution_count": null,
   "id": "b49870c6-c6a6-4993-9490-ad4333f1dfc3",
   "metadata": {},
   "outputs": [],
   "source": []
  },
  {
   "cell_type": "code",
   "execution_count": null,
   "id": "5479941c-54ed-477b-a0cf-0bcc8f1ac291",
   "metadata": {},
   "outputs": [],
   "source": []
  },
  {
   "cell_type": "code",
   "execution_count": 5,
   "id": "e79ff4da-a1c1-4cf0-a07c-39f5bcead676",
   "metadata": {},
   "outputs": [
    {
     "name": "stdout",
     "output_type": "stream",
     "text": [
      "Requirement already satisfied: numpy in c:\\users\\jyoti\\appdata\\local\\programs\\python\\python310\\lib\\site-packages (1.26.2)\n"
     ]
    },
    {
     "name": "stderr",
     "output_type": "stream",
     "text": [
      "\n",
      "[notice] A new release of pip is available: 23.0.1 -> 23.3.1\n",
      "[notice] To update, run: python.exe -m pip install --upgrade pip\n"
     ]
    }
   ],
   "source": [
    "!pip install numpy "
   ]
  },
  {
   "cell_type": "code",
   "execution_count": 6,
   "id": "03965498-641e-4692-87f1-cb5f4f5d1a50",
   "metadata": {},
   "outputs": [],
   "source": [
    "import numpy as np "
   ]
  },
  {
   "cell_type": "code",
   "execution_count": 8,
   "id": "97062886-a68a-4321-817a-c3eb313f461f",
   "metadata": {},
   "outputs": [
    {
     "data": {
      "text/plain": [
       "array([1, 2, 3])"
      ]
     },
     "execution_count": 8,
     "metadata": {},
     "output_type": "execute_result"
    }
   ],
   "source": [
    "a = [1,2,3]\n",
    "b = np.array(a)\n",
    "b"
   ]
  },
  {
   "cell_type": "markdown",
   "id": "9bd0e341-7b42-4551-aedc-2f91a2153b85",
   "metadata": {},
   "source": [
    "# How to create a user define array ?\n"
   ]
  },
  {
   "cell_type": "code",
   "execution_count": 10,
   "id": "4cb71be3-9187-4443-abbb-df81a7292ef3",
   "metadata": {},
   "outputs": [
    {
     "name": "stdin",
     "output_type": "stream",
     "text": [
      "Enter the size 3\n",
      "enter your item: 4\n",
      "enter your item: 6\n",
      "enter your item: 8\n"
     ]
    },
    {
     "data": {
      "text/plain": [
       "array([4, 6, 8])"
      ]
     },
     "execution_count": 10,
     "metadata": {},
     "output_type": "execute_result"
    }
   ],
   "source": [
    "a=[]\n",
    "size=int(input(\"Enter the size\"))\n",
    "for i in range (size):\n",
    "    val=int(input(\"enter your item:\"))\n",
    "    a.append(val)\n",
    "\n",
    "b=np.array(a)\n",
    "b"
   ]
  },
  {
   "cell_type": "markdown",
   "id": "d7981148-b97c-4ab4-99c9-e5763dd105b4",
   "metadata": {},
   "source": [
    "# One Dimensional Array"
   ]
  },
  {
   "cell_type": "code",
   "execution_count": 11,
   "id": "00059723-c9d3-4c1a-b789-f33e1fa8ce70",
   "metadata": {},
   "outputs": [
    {
     "data": {
      "text/plain": [
       "array([1, 2, 3])"
      ]
     },
     "execution_count": 11,
     "metadata": {},
     "output_type": "execute_result"
    }
   ],
   "source": [
    "a=[1,2,3]\n",
    "b=np.array(a)\n",
    "b"
   ]
  },
  {
   "cell_type": "code",
   "execution_count": 13,
   "id": "0e9b273a-b497-4c23-9e49-ef80f62cf387",
   "metadata": {},
   "outputs": [
    {
     "name": "stdout",
     "output_type": "stream",
     "text": [
      "Total Dimension : 1\n",
      "Total shape: (3,)\n",
      "Total Elements: 3\n"
     ]
    }
   ],
   "source": [
    "print(\"Total Dimension :\",b.ndim) #ndim==> d dimensional data\n",
    "print(\"Total shape:\", b.shape) #shape= n(rows), n (column)\n",
    "print(\"Total Elements:\",b.size) #size=n (rows)*n(column)"
   ]
  },
  {
   "cell_type": "markdown",
   "id": "cddba8f4-c550-4639-a653-cc403051356c",
   "metadata": {},
   "source": [
    "# 2-D data"
   ]
  },
  {
   "cell_type": "code",
   "execution_count": 16,
   "id": "337c52ad-53c4-48eb-a053-0eecfdd0a9a5",
   "metadata": {},
   "outputs": [
    {
     "data": {
      "text/plain": [
       "array([[1, 2, 3],\n",
       "       [4, 5, 6],\n",
       "       [7, 8, 9]])"
      ]
     },
     "execution_count": 16,
     "metadata": {},
     "output_type": "execute_result"
    }
   ],
   "source": [
    "a=[[1,2,3],[4,5,6],[7,8,9]]\n",
    "b=np.array(a)\n",
    "b"
   ]
  },
  {
   "cell_type": "code",
   "execution_count": 17,
   "id": "ca7f7d2a-ad2c-4f1d-9a50-136bcfa9a0fd",
   "metadata": {},
   "outputs": [
    {
     "name": "stdout",
     "output_type": "stream",
     "text": [
      "Total Dimension : 2\n",
      "Total shape: (3, 3)\n",
      "Total Elements: 9\n"
     ]
    }
   ],
   "source": [
    "print(\"Total Dimension :\",b.ndim) #ndim==> d dimensional data\n",
    "print(\"Total shape:\", b.shape) #shape= n(rows), n (column)\n",
    "print(\"Total Elements:\",b.size) #size=n (rows)*n(column)"
   ]
  },
  {
   "cell_type": "markdown",
   "id": "6116ddc7-1400-4cf4-890c-2e6604fd93f8",
   "metadata": {},
   "source": [
    "# Pre - Defined functions "
   ]
  },
  {
   "cell_type": "code",
   "execution_count": 18,
   "id": "9ee026f0-d270-4347-b73d-030be81181ef",
   "metadata": {},
   "outputs": [],
   "source": [
    "#(1).zeros() ==> it will create all values into 0"
   ]
  },
  {
   "cell_type": "code",
   "execution_count": 19,
   "id": "f4d8ce94-4e69-42be-aab0-0c865b4dad31",
   "metadata": {},
   "outputs": [
    {
     "data": {
      "text/plain": [
       "array([0., 0., 0., 0., 0.])"
      ]
     },
     "execution_count": 19,
     "metadata": {},
     "output_type": "execute_result"
    }
   ],
   "source": [
    "a=np.zeros(5)\n",
    "\n",
    "a"
   ]
  },
  {
   "cell_type": "code",
   "execution_count": 20,
   "id": "807a899c-c4bf-4aad-bcd0-c2b952d10ebb",
   "metadata": {},
   "outputs": [],
   "source": [
    "#Images ==> Pixels (0-255)==> 0px ==> complete black , 255 ==> complete white\n",
    "#Normalize ==> min_pixels _value =0 , max=1\n",
    "#weights initialization"
   ]
  },
  {
   "cell_type": "code",
   "execution_count": 21,
   "id": "fe827e45-cc64-4c13-92ef-40a9441a0a05",
   "metadata": {},
   "outputs": [
    {
     "data": {
      "text/plain": [
       "array([[0., 0., 0., 0.],\n",
       "       [0., 0., 0., 0.],\n",
       "       [0., 0., 0., 0.]])"
      ]
     },
     "execution_count": 21,
     "metadata": {},
     "output_type": "execute_result"
    }
   ],
   "source": [
    "a=np.zeros((3,4))\n",
    "a"
   ]
  },
  {
   "cell_type": "code",
   "execution_count": 23,
   "id": "4e30b6c5-57f2-4dd8-8462-31077331f4c1",
   "metadata": {},
   "outputs": [
    {
     "name": "stdout",
     "output_type": "stream",
     "text": [
      "Total Dimension : 2\n",
      "Total shape: (3, 4)\n",
      "Total Elements: 12\n"
     ]
    }
   ],
   "source": [
    "print(\"Total Dimension :\",a.ndim) #ndim==> d dimensional data\n",
    "print(\"Total shape:\", a.shape) #shape= n(rows), n (column)\n",
    "print(\"Total Elements:\",a.size) #size=n (rows)*n(column)"
   ]
  },
  {
   "cell_type": "markdown",
   "id": "5a588d18-8b55-47d6-89ac-3aff9f4122a2",
   "metadata": {},
   "source": [
    "# (2). Ones ()==> It will create an array in which all the elements are one"
   ]
  },
  {
   "cell_type": "code",
   "execution_count": 24,
   "id": "77442107-08ff-4617-9957-d89cd569a1c0",
   "metadata": {},
   "outputs": [
    {
     "data": {
      "text/plain": [
       "array([1., 1., 1., 1.])"
      ]
     },
     "execution_count": 24,
     "metadata": {},
     "output_type": "execute_result"
    }
   ],
   "source": [
    "a=np.ones(4)\n",
    "a"
   ]
  },
  {
   "cell_type": "code",
   "execution_count": 25,
   "id": "ff242659-dd2e-4d4e-bec6-93aae8767bc7",
   "metadata": {},
   "outputs": [
    {
     "data": {
      "text/plain": [
       "array([[1., 1., 1., 1.],\n",
       "       [1., 1., 1., 1.],\n",
       "       [1., 1., 1., 1.]])"
      ]
     },
     "execution_count": 25,
     "metadata": {},
     "output_type": "execute_result"
    }
   ],
   "source": [
    "a=np.ones((3,4))\n",
    "a"
   ]
  },
  {
   "cell_type": "code",
   "execution_count": 26,
   "id": "54db11c3-9ac6-444e-bb21-0ba79627ced6",
   "metadata": {},
   "outputs": [
    {
     "name": "stdout",
     "output_type": "stream",
     "text": [
      "Total Dimension : 2\n",
      "Total shape: (3, 4)\n",
      "Total Elements: 12\n"
     ]
    }
   ],
   "source": [
    "print(\"Total Dimension :\",a.ndim) #ndim==> d dimensional data\n",
    "print(\"Total shape:\", a.shape) #shape= n(rows), n (column)\n",
    "print(\"Total Elements:\",a.size) #size=n (rows)*n(column)"
   ]
  },
  {
   "cell_type": "markdown",
   "id": "8ee402c2-1a2a-4f03-be22-f0fa4f94c674",
   "metadata": {},
   "source": [
    "# (3) EYE() ==> diagonal position elements = 1, rest all 0"
   ]
  },
  {
   "cell_type": "code",
   "execution_count": 27,
   "id": "8404d647-bbf0-47ea-a8fb-f1e98f92ad02",
   "metadata": {},
   "outputs": [
    {
     "data": {
      "text/plain": [
       "array([[1., 0., 0., 0.],\n",
       "       [0., 1., 0., 0.],\n",
       "       [0., 0., 1., 0.]])"
      ]
     },
     "execution_count": 27,
     "metadata": {},
     "output_type": "execute_result"
    }
   ],
   "source": [
    "a=np.eye(3,4)\n",
    "a"
   ]
  },
  {
   "cell_type": "code",
   "execution_count": 28,
   "id": "aaa2284d-0aca-4048-8a2c-02d0a1ff67f8",
   "metadata": {},
   "outputs": [
    {
     "data": {
      "text/plain": [
       "array([[1., 0., 0., 0.],\n",
       "       [0., 1., 0., 0.],\n",
       "       [0., 0., 1., 0.],\n",
       "       [0., 0., 0., 1.]])"
      ]
     },
     "execution_count": 28,
     "metadata": {},
     "output_type": "execute_result"
    }
   ],
   "source": [
    "a= np.eye(4,4)\n",
    "a"
   ]
  },
  {
   "cell_type": "markdown",
   "id": "7cdf99a5-9526-4e6e-b763-ba6407d90ff5",
   "metadata": {},
   "source": [
    "# (4) diag()==> Diagonal Position ==> custom array, rest all are 0"
   ]
  },
  {
   "cell_type": "code",
   "execution_count": 29,
   "id": "7599f7cb-e23b-47db-873c-5aeb921a2040",
   "metadata": {},
   "outputs": [
    {
     "data": {
      "text/plain": [
       "array([ 1, 25, 78, 90])"
      ]
     },
     "execution_count": 29,
     "metadata": {},
     "output_type": "execute_result"
    }
   ],
   "source": [
    "a=np.array([1,25,78,90])\n",
    "a"
   ]
  },
  {
   "cell_type": "code",
   "execution_count": 30,
   "id": "d6543dfd-4ea3-4d07-a8bd-9fdb80703b67",
   "metadata": {},
   "outputs": [
    {
     "data": {
      "text/plain": [
       "array([[ 1,  0,  0,  0],\n",
       "       [ 0, 25,  0,  0],\n",
       "       [ 0,  0, 78,  0],\n",
       "       [ 0,  0,  0, 90]])"
      ]
     },
     "execution_count": 30,
     "metadata": {},
     "output_type": "execute_result"
    }
   ],
   "source": [
    "b=np.diag(a)\n",
    "b"
   ]
  },
  {
   "cell_type": "markdown",
   "id": "2f0576f4-f8a4-40ef-b519-01eb6ffcf487",
   "metadata": {},
   "source": [
    "# (5). Random Module "
   ]
  },
  {
   "cell_type": "code",
   "execution_count": 31,
   "id": "a97bf0cc-98bc-4de4-ac71-85a1a6d50c90",
   "metadata": {},
   "outputs": [],
   "source": [
    "#(a). Randint() ==> provide integer number in a given range\n",
    "#syntax : np.random.randint(min_number, max_number,total_number)\n"
   ]
  },
  {
   "cell_type": "code",
   "execution_count": 32,
   "id": "567ff401-70fa-47b2-a278-813cb8937985",
   "metadata": {},
   "outputs": [
    {
     "data": {
      "text/plain": [
       "array([14, 12, 11, 19])"
      ]
     },
     "execution_count": 32,
     "metadata": {},
     "output_type": "execute_result"
    }
   ],
   "source": [
    "a=np.random.randint(1,20,4)\n",
    "a"
   ]
  },
  {
   "cell_type": "code",
   "execution_count": 33,
   "id": "19ad5bd2-a6c1-4839-b190-9d55447c7ddc",
   "metadata": {},
   "outputs": [
    {
     "name": "stdin",
     "output_type": "stream",
     "text": [
      "Enter min number: 1\n",
      "Enter max number: 100\n",
      "Enter total number: 6\n"
     ]
    },
    {
     "data": {
      "text/plain": [
       "array([53, 69, 75, 74, 23, 52])"
      ]
     },
     "execution_count": 33,
     "metadata": {},
     "output_type": "execute_result"
    }
   ],
   "source": [
    "p=int(input(\"Enter min number:\"))\n",
    "q=int(input(\"Enter max number:\"))\n",
    "r=int(input(\"Enter total number:\"))\n",
    "a=np.random.randint(p,q,r)\n",
    "a"
   ]
  },
  {
   "cell_type": "code",
   "execution_count": 34,
   "id": "147e7317-28f1-4b0d-b7a7-4b7f8a835c69",
   "metadata": {},
   "outputs": [
    {
     "data": {
      "text/plain": [
       "array([0.26908048, 0.26487009, 0.67518806, 0.98253019, 0.12042856])"
      ]
     },
     "execution_count": 34,
     "metadata": {},
     "output_type": "execute_result"
    }
   ],
   "source": [
    "#(b) Rand()==> Limit(0-1)\n",
    "a=np.random.rand(5)\n",
    "a"
   ]
  },
  {
   "cell_type": "code",
   "execution_count": 36,
   "id": "54158acb-04b4-4cd7-b8e4-a5f279b49ab9",
   "metadata": {},
   "outputs": [
    {
     "data": {
      "text/plain": [
       "array([[0.89323652, 0.77059509, 0.68100142],\n",
       "       [0.83916523, 0.42650825, 0.771841  ]])"
      ]
     },
     "execution_count": 36,
     "metadata": {},
     "output_type": "execute_result"
    }
   ],
   "source": [
    "a=np.random.rand(2,3)\n",
    "a"
   ]
  },
  {
   "cell_type": "code",
   "execution_count": 37,
   "id": "73392e08-2955-46fa-b4ff-fae54be2846c",
   "metadata": {},
   "outputs": [
    {
     "data": {
      "text/plain": [
       "array([-0.01536061,  1.41950081,  1.38116203, -0.66737971,  0.07516421,\n",
       "       -0.74897253, -0.0273642 ,  1.16584579])"
      ]
     },
     "execution_count": 37,
     "metadata": {},
     "output_type": "execute_result"
    }
   ],
   "source": [
    "#(c) Randn() ==> limit(-7 to +7)\n",
    "a=np.random.randn(8)\n",
    "a"
   ]
  },
  {
   "cell_type": "code",
   "execution_count": 38,
   "id": "b7fa5619-5cef-478c-b929-a377b5cf3a10",
   "metadata": {},
   "outputs": [
    {
     "data": {
      "text/plain": [
       "array([[-0.3558142 ,  0.50254426, -0.84601012],\n",
       "       [ 1.05361159, -1.35429277, -1.16182635]])"
      ]
     },
     "execution_count": 38,
     "metadata": {},
     "output_type": "execute_result"
    }
   ],
   "source": [
    "a=np.random.randn(2,3)\n",
    "a"
   ]
  },
  {
   "cell_type": "code",
   "execution_count": 39,
   "id": "c2af31fa-a4d4-4266-824d-f1563d3b1358",
   "metadata": {},
   "outputs": [],
   "source": [
    "#(d) Seed ()==> it will fix our numbers"
   ]
  },
  {
   "cell_type": "code",
   "execution_count": 44,
   "id": "c1b74f71-fce3-47cd-bdf9-b346c6384f5f",
   "metadata": {},
   "outputs": [
    {
     "data": {
      "text/plain": [
       "array([4, 8])"
      ]
     },
     "execution_count": 44,
     "metadata": {},
     "output_type": "execute_result"
    }
   ],
   "source": [
    "np.random.seed(5899)\n",
    "\n",
    "a=np.random.randint(1,10,2)\n",
    "a"
   ]
  },
  {
   "cell_type": "code",
   "execution_count": null,
   "id": "9d1aaa1d-5afd-4ca6-95b9-52308f0b47d1",
   "metadata": {},
   "outputs": [],
   "source": []
  },
  {
   "cell_type": "code",
   "execution_count": null,
   "id": "45aaa87c-6216-4cd8-a0c8-37795d0d82e8",
   "metadata": {},
   "outputs": [],
   "source": []
  }
 ],
 "metadata": {
  "kernelspec": {
   "display_name": "Python 3 (ipykernel)",
   "language": "python",
   "name": "python3"
  },
  "language_info": {
   "codemirror_mode": {
    "name": "ipython",
    "version": 3
   },
   "file_extension": ".py",
   "mimetype": "text/x-python",
   "name": "python",
   "nbconvert_exporter": "python",
   "pygments_lexer": "ipython3",
   "version": "3.10.11"
  }
 },
 "nbformat": 4,
 "nbformat_minor": 5
}
