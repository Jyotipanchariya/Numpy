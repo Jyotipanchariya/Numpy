{
 "cells": [
  {
   "cell_type": "code",
   "execution_count": 1,
   "id": "2d7a08ec",
   "metadata": {},
   "outputs": [],
   "source": [
    "import numpy as np\n"
   ]
  },
  {
   "cell_type": "markdown",
   "id": "3ba35848",
   "metadata": {},
   "source": [
    "# Reshaping the data"
   ]
  },
  {
   "cell_type": "code",
   "execution_count": 3,
   "id": "31c45774",
   "metadata": {},
   "outputs": [],
   "source": [
    "#n(rows)*n(columns)=n(total_elements)\n",
    "\n",
    "#n(rows)=n(total_elements)/n(columns)\n",
    "\n",
    "#n(columns)=n(total_elements)/n(rows)\n"
   ]
  },
  {
   "cell_type": "code",
   "execution_count": 4,
   "id": "0949d4bc",
   "metadata": {},
   "outputs": [
    {
     "data": {
      "text/plain": [
       "array([31, 40, 48, 31, 42,  7, 49, 12, 34, 37, 43, 18])"
      ]
     },
     "execution_count": 4,
     "metadata": {},
     "output_type": "execute_result"
    }
   ],
   "source": [
    "a=np.random.randint(1,50,12)\n",
    "a"
   ]
  },
  {
   "cell_type": "code",
   "execution_count": 5,
   "id": "48c0f764",
   "metadata": {},
   "outputs": [],
   "source": [
    "# 1*12,12*1\n",
    "# 2*6, 6*2\n",
    "# 3*4 , 4*3"
   ]
  },
  {
   "cell_type": "code",
   "execution_count": 6,
   "id": "f26770f7",
   "metadata": {},
   "outputs": [
    {
     "data": {
      "text/plain": [
       "array([[31, 40, 48, 31, 42,  7],\n",
       "       [49, 12, 34, 37, 43, 18]])"
      ]
     },
     "execution_count": 6,
     "metadata": {},
     "output_type": "execute_result"
    }
   ],
   "source": [
    "a.reshape(2,6)"
   ]
  },
  {
   "cell_type": "code",
   "execution_count": 7,
   "id": "d1490ead",
   "metadata": {},
   "outputs": [
    {
     "data": {
      "text/plain": [
       "array([[31, 40],\n",
       "       [48, 31],\n",
       "       [42,  7],\n",
       "       [49, 12],\n",
       "       [34, 37],\n",
       "       [43, 18]])"
      ]
     },
     "execution_count": 7,
     "metadata": {},
     "output_type": "execute_result"
    }
   ],
   "source": [
    "a.reshape(6,2)"
   ]
  },
  {
   "cell_type": "code",
   "execution_count": 12,
   "id": "60ba001d",
   "metadata": {},
   "outputs": [
    {
     "data": {
      "text/plain": [
       "array([[31, 40, 48, 31],\n",
       "       [42,  7, 49, 12],\n",
       "       [34, 37, 43, 18]])"
      ]
     },
     "execution_count": 12,
     "metadata": {},
     "output_type": "execute_result"
    }
   ],
   "source": [
    "a.reshape(3,4)"
   ]
  },
  {
   "cell_type": "code",
   "execution_count": 13,
   "id": "04e74d43",
   "metadata": {},
   "outputs": [
    {
     "data": {
      "text/plain": [
       "array([[31, 40, 48],\n",
       "       [31, 42,  7],\n",
       "       [49, 12, 34],\n",
       "       [37, 43, 18]])"
      ]
     },
     "execution_count": 13,
     "metadata": {},
     "output_type": "execute_result"
    }
   ],
   "source": [
    "a.reshape(4,3)"
   ]
  },
  {
   "cell_type": "code",
   "execution_count": 14,
   "id": "bb8ad775",
   "metadata": {},
   "outputs": [
    {
     "data": {
      "text/plain": [
       "array([[31, 40, 48, 31, 42,  7, 49, 12, 34, 37, 43, 18]])"
      ]
     },
     "execution_count": 14,
     "metadata": {},
     "output_type": "execute_result"
    }
   ],
   "source": [
    "a.reshape(1,12)"
   ]
  },
  {
   "cell_type": "code",
   "execution_count": 15,
   "id": "1cbc0924",
   "metadata": {},
   "outputs": [
    {
     "data": {
      "text/plain": [
       "array([[31],\n",
       "       [40],\n",
       "       [48],\n",
       "       [31],\n",
       "       [42],\n",
       "       [ 7],\n",
       "       [49],\n",
       "       [12],\n",
       "       [34],\n",
       "       [37],\n",
       "       [43],\n",
       "       [18]])"
      ]
     },
     "execution_count": 15,
     "metadata": {},
     "output_type": "execute_result"
    }
   ],
   "source": [
    "a.reshape(12,1)"
   ]
  },
  {
   "cell_type": "code",
   "execution_count": 17,
   "id": "629e0d19",
   "metadata": {},
   "outputs": [],
   "source": [
    "#1-100 , 36 numbers\n",
    "\n",
    "# 1*36 , 36*1\n",
    "# 2*18 , 18*2\n",
    "# 3*12 , 12*3\n",
    "# 4*9  , 9*4"
   ]
  },
  {
   "cell_type": "code",
   "execution_count": 19,
   "id": "91f00431",
   "metadata": {},
   "outputs": [
    {
     "data": {
      "text/plain": [
       "array([60, 39,  1, 90, 45, 51, 25, 34,  2,  1, 84, 76, 59, 32,  7, 41,  2,\n",
       "       66, 37, 24, 34, 14, 49, 82, 73, 54, 37, 72, 55, 17, 40, 76, 84, 83,\n",
       "       60, 93])"
      ]
     },
     "execution_count": 19,
     "metadata": {},
     "output_type": "execute_result"
    }
   ],
   "source": [
    "a=np.random.randint(1,100,36)\n",
    "a"
   ]
  },
  {
   "cell_type": "code",
   "execution_count": 20,
   "id": "729a476f",
   "metadata": {},
   "outputs": [
    {
     "data": {
      "text/plain": [
       "array([[60, 39,  1, 90, 45, 51, 25, 34,  2,  1, 84, 76, 59, 32,  7, 41,\n",
       "         2, 66],\n",
       "       [37, 24, 34, 14, 49, 82, 73, 54, 37, 72, 55, 17, 40, 76, 84, 83,\n",
       "        60, 93]])"
      ]
     },
     "execution_count": 20,
     "metadata": {},
     "output_type": "execute_result"
    }
   ],
   "source": [
    "a.reshape(2,18)"
   ]
  },
  {
   "cell_type": "code",
   "execution_count": 21,
   "id": "2023a937",
   "metadata": {},
   "outputs": [
    {
     "data": {
      "text/plain": [
       "array([[60, 39],\n",
       "       [ 1, 90],\n",
       "       [45, 51],\n",
       "       [25, 34],\n",
       "       [ 2,  1],\n",
       "       [84, 76],\n",
       "       [59, 32],\n",
       "       [ 7, 41],\n",
       "       [ 2, 66],\n",
       "       [37, 24],\n",
       "       [34, 14],\n",
       "       [49, 82],\n",
       "       [73, 54],\n",
       "       [37, 72],\n",
       "       [55, 17],\n",
       "       [40, 76],\n",
       "       [84, 83],\n",
       "       [60, 93]])"
      ]
     },
     "execution_count": 21,
     "metadata": {},
     "output_type": "execute_result"
    }
   ],
   "source": [
    "a.reshape(18,2)"
   ]
  },
  {
   "cell_type": "code",
   "execution_count": 23,
   "id": "bbf38744",
   "metadata": {},
   "outputs": [
    {
     "data": {
      "text/plain": [
       "array([[60, 39,  1, 90, 45, 51, 25, 34,  2,  1, 84, 76],\n",
       "       [59, 32,  7, 41,  2, 66, 37, 24, 34, 14, 49, 82],\n",
       "       [73, 54, 37, 72, 55, 17, 40, 76, 84, 83, 60, 93]])"
      ]
     },
     "execution_count": 23,
     "metadata": {},
     "output_type": "execute_result"
    }
   ],
   "source": [
    "a.reshape(3,12)"
   ]
  },
  {
   "cell_type": "code",
   "execution_count": 24,
   "id": "d56a1742",
   "metadata": {},
   "outputs": [
    {
     "data": {
      "text/plain": [
       "array([[60, 39,  1],\n",
       "       [90, 45, 51],\n",
       "       [25, 34,  2],\n",
       "       [ 1, 84, 76],\n",
       "       [59, 32,  7],\n",
       "       [41,  2, 66],\n",
       "       [37, 24, 34],\n",
       "       [14, 49, 82],\n",
       "       [73, 54, 37],\n",
       "       [72, 55, 17],\n",
       "       [40, 76, 84],\n",
       "       [83, 60, 93]])"
      ]
     },
     "execution_count": 24,
     "metadata": {},
     "output_type": "execute_result"
    }
   ],
   "source": [
    "a.reshape(12,3)"
   ]
  },
  {
   "cell_type": "code",
   "execution_count": 25,
   "id": "baadab6f",
   "metadata": {},
   "outputs": [
    {
     "data": {
      "text/plain": [
       "array([[60, 39,  1, 90, 45, 51, 25, 34,  2],\n",
       "       [ 1, 84, 76, 59, 32,  7, 41,  2, 66],\n",
       "       [37, 24, 34, 14, 49, 82, 73, 54, 37],\n",
       "       [72, 55, 17, 40, 76, 84, 83, 60, 93]])"
      ]
     },
     "execution_count": 25,
     "metadata": {},
     "output_type": "execute_result"
    }
   ],
   "source": [
    "a.reshape(4,9)"
   ]
  },
  {
   "cell_type": "code",
   "execution_count": 26,
   "id": "6692be22",
   "metadata": {},
   "outputs": [
    {
     "data": {
      "text/plain": [
       "array([[60, 39,  1, 90],\n",
       "       [45, 51, 25, 34],\n",
       "       [ 2,  1, 84, 76],\n",
       "       [59, 32,  7, 41],\n",
       "       [ 2, 66, 37, 24],\n",
       "       [34, 14, 49, 82],\n",
       "       [73, 54, 37, 72],\n",
       "       [55, 17, 40, 76],\n",
       "       [84, 83, 60, 93]])"
      ]
     },
     "execution_count": 26,
     "metadata": {},
     "output_type": "execute_result"
    }
   ],
   "source": [
    "a.reshape(9,4)"
   ]
  },
  {
   "cell_type": "markdown",
   "id": "6de75089",
   "metadata": {},
   "source": [
    "# View VS Copy"
   ]
  },
  {
   "cell_type": "code",
   "execution_count": 28,
   "id": "63182bba",
   "metadata": {},
   "outputs": [
    {
     "data": {
      "text/plain": [
       "array([10, 20, 30,  0,  0,  0, 70, 80])"
      ]
     },
     "execution_count": 28,
     "metadata": {},
     "output_type": "execute_result"
    }
   ],
   "source": [
    "a=np.array([10,20,30,40,50,60,70,80])#view means modification in original data\n",
    "b=a[3:6]#3,4,5 indexed elements=40,50,60\n",
    "b[:]=0\n",
    "a"
   ]
  },
  {
   "cell_type": "code",
   "execution_count": 29,
   "id": "196c424d",
   "metadata": {},
   "outputs": [
    {
     "data": {
      "text/plain": [
       "array([10, 20, 30, 40, 50, 60, 70, 80])"
      ]
     },
     "execution_count": 29,
     "metadata": {},
     "output_type": "execute_result"
    }
   ],
   "source": [
    "a=np.array([10,20,30,40,50,60,70,80])#copy means we make a duplicate elements\n",
    "b=a[3:6].copy()\n",
    "b[:]=0\n",
    "a"
   ]
  },
  {
   "cell_type": "markdown",
   "id": "b461ae4b",
   "metadata": {},
   "source": [
    "# Conditional Selection"
   ]
  },
  {
   "cell_type": "code",
   "execution_count": 30,
   "id": "e0af1f81",
   "metadata": {},
   "outputs": [
    {
     "data": {
      "text/plain": [
       "array([ 1,  2,  3,  4,  5,  6,  7,  8,  9, 10, 11, 12, 13, 14, 15])"
      ]
     },
     "execution_count": 30,
     "metadata": {},
     "output_type": "execute_result"
    }
   ],
   "source": [
    "a=np.arange(1,16)\n",
    "a"
   ]
  },
  {
   "cell_type": "code",
   "execution_count": 31,
   "id": "77348566",
   "metadata": {},
   "outputs": [
    {
     "data": {
      "text/plain": [
       "array([False, False, False, False, False, False, False, False, False,\n",
       "       False,  True,  True,  True,  True,  True])"
      ]
     },
     "execution_count": 31,
     "metadata": {},
     "output_type": "execute_result"
    }
   ],
   "source": [
    "a>10"
   ]
  },
  {
   "cell_type": "code",
   "execution_count": 32,
   "id": "c06b96ed",
   "metadata": {},
   "outputs": [
    {
     "data": {
      "text/plain": [
       "array([11, 12, 13, 14, 15])"
      ]
     },
     "execution_count": 32,
     "metadata": {},
     "output_type": "execute_result"
    }
   ],
   "source": [
    "b=a>10\n",
    "a[b]"
   ]
  },
  {
   "cell_type": "code",
   "execution_count": 33,
   "id": "4526c6e7",
   "metadata": {},
   "outputs": [
    {
     "data": {
      "text/plain": [
       "array([ 2,  4,  6,  8, 10, 12, 14])"
      ]
     },
     "execution_count": 33,
     "metadata": {},
     "output_type": "execute_result"
    }
   ],
   "source": [
    "a[a%2==0]"
   ]
  },
  {
   "cell_type": "code",
   "execution_count": 34,
   "id": "61edc28e",
   "metadata": {},
   "outputs": [
    {
     "data": {
      "text/plain": [
       "array([ 1,  3,  5,  7,  9, 11, 13, 15])"
      ]
     },
     "execution_count": 34,
     "metadata": {},
     "output_type": "execute_result"
    }
   ],
   "source": [
    "a[a%2!=0]"
   ]
  },
  {
   "cell_type": "markdown",
   "id": "b225a061",
   "metadata": {},
   "source": [
    "# Operations ON Array"
   ]
  },
  {
   "cell_type": "code",
   "execution_count": 35,
   "id": "17d44e93",
   "metadata": {},
   "outputs": [
    {
     "data": {
      "text/plain": [
       "array([1, 2, 3, 4])"
      ]
     },
     "execution_count": 35,
     "metadata": {},
     "output_type": "execute_result"
    }
   ],
   "source": [
    "a=np.arange(1,5)\n",
    "a"
   ]
  },
  {
   "cell_type": "code",
   "execution_count": 36,
   "id": "f6e18ed8",
   "metadata": {},
   "outputs": [
    {
     "data": {
      "text/plain": [
       "array([2, 4, 6, 8])"
      ]
     },
     "execution_count": 36,
     "metadata": {},
     "output_type": "execute_result"
    }
   ],
   "source": [
    "a*2 #array"
   ]
  },
  {
   "cell_type": "code",
   "execution_count": 37,
   "id": "6d4cab5e",
   "metadata": {},
   "outputs": [
    {
     "data": {
      "text/plain": [
       "array([ 1,  4,  9, 16])"
      ]
     },
     "execution_count": 37,
     "metadata": {},
     "output_type": "execute_result"
    }
   ],
   "source": [
    "a**2 #square"
   ]
  },
  {
   "cell_type": "code",
   "execution_count": 38,
   "id": "7fa62bb7",
   "metadata": {},
   "outputs": [
    {
     "data": {
      "text/plain": [
       "array([ 1,  8, 27, 64], dtype=int32)"
      ]
     },
     "execution_count": 38,
     "metadata": {},
     "output_type": "execute_result"
    }
   ],
   "source": [
    "a**3  #cube"
   ]
  },
  {
   "cell_type": "code",
   "execution_count": 39,
   "id": "be8e3154",
   "metadata": {},
   "outputs": [
    {
     "data": {
      "text/plain": [
       "array([[1, 2],\n",
       "       [3, 4]])"
      ]
     },
     "execution_count": 39,
     "metadata": {},
     "output_type": "execute_result"
    }
   ],
   "source": [
    "a=a.reshape(2,2)\n",
    "a   "
   ]
  },
  {
   "cell_type": "code",
   "execution_count": 40,
   "id": "910aca74",
   "metadata": {},
   "outputs": [
    {
     "data": {
      "text/plain": [
       "array([[5, 6],\n",
       "       [7, 8]])"
      ]
     },
     "execution_count": 40,
     "metadata": {},
     "output_type": "execute_result"
    }
   ],
   "source": [
    "b= np.array([5,6,7,8]).reshape(2,2)\n",
    "b"
   ]
  },
  {
   "cell_type": "code",
   "execution_count": 41,
   "id": "927260a0",
   "metadata": {},
   "outputs": [
    {
     "data": {
      "text/plain": [
       "array([[ 6,  8],\n",
       "       [10, 12]])"
      ]
     },
     "execution_count": 41,
     "metadata": {},
     "output_type": "execute_result"
    }
   ],
   "source": [
    "a+b"
   ]
  },
  {
   "cell_type": "code",
   "execution_count": 42,
   "id": "8045b038",
   "metadata": {},
   "outputs": [
    {
     "data": {
      "text/plain": [
       "array([[-4, -4],\n",
       "       [-4, -4]])"
      ]
     },
     "execution_count": 42,
     "metadata": {},
     "output_type": "execute_result"
    }
   ],
   "source": [
    "a-b"
   ]
  },
  {
   "cell_type": "code",
   "execution_count": 43,
   "id": "299d8540",
   "metadata": {},
   "outputs": [
    {
     "data": {
      "text/plain": [
       "array([[19, 22],\n",
       "       [43, 50]])"
      ]
     },
     "execution_count": 43,
     "metadata": {},
     "output_type": "execute_result"
    }
   ],
   "source": [
    "a.dot(b) #multipilaction of array in matrix"
   ]
  },
  {
   "cell_type": "code",
   "execution_count": 44,
   "id": "9e4ba8ad",
   "metadata": {},
   "outputs": [
    {
     "data": {
      "text/plain": [
       "1"
      ]
     },
     "execution_count": 44,
     "metadata": {},
     "output_type": "execute_result"
    }
   ],
   "source": [
    "np.min(a)"
   ]
  },
  {
   "cell_type": "code",
   "execution_count": 46,
   "id": "6ad04e6b",
   "metadata": {},
   "outputs": [
    {
     "data": {
      "text/plain": [
       "0"
      ]
     },
     "execution_count": 46,
     "metadata": {},
     "output_type": "execute_result"
    }
   ],
   "source": [
    "np.argmin(a) #index value "
   ]
  },
  {
   "cell_type": "code",
   "execution_count": 47,
   "id": "4271bf07",
   "metadata": {},
   "outputs": [
    {
     "data": {
      "text/plain": [
       "4"
      ]
     },
     "execution_count": 47,
     "metadata": {},
     "output_type": "execute_result"
    }
   ],
   "source": [
    "np.max(a)"
   ]
  },
  {
   "cell_type": "code",
   "execution_count": 48,
   "id": "b9d7f6f1",
   "metadata": {},
   "outputs": [
    {
     "data": {
      "text/plain": [
       "3"
      ]
     },
     "execution_count": 48,
     "metadata": {},
     "output_type": "execute_result"
    }
   ],
   "source": [
    "np.argmax(a)"
   ]
  },
  {
   "cell_type": "code",
   "execution_count": 49,
   "id": "bbafd16f",
   "metadata": {},
   "outputs": [
    {
     "data": {
      "text/plain": [
       "array([[1.        , 1.41421356],\n",
       "       [1.73205081, 2.        ]])"
      ]
     },
     "execution_count": 49,
     "metadata": {},
     "output_type": "execute_result"
    }
   ],
   "source": [
    "np.sqrt(a)"
   ]
  },
  {
   "cell_type": "code",
   "execution_count": 50,
   "id": "b6e29f37",
   "metadata": {},
   "outputs": [
    {
     "data": {
      "text/plain": [
       "array([[ 0.84147098,  0.90929743],\n",
       "       [ 0.14112001, -0.7568025 ]])"
      ]
     },
     "execution_count": 50,
     "metadata": {},
     "output_type": "execute_result"
    }
   ],
   "source": [
    "np.sin(a)"
   ]
  },
  {
   "cell_type": "code",
   "execution_count": 51,
   "id": "080c5cbe",
   "metadata": {},
   "outputs": [
    {
     "data": {
      "text/plain": [
       "array([[ 1.55740772, -2.18503986],\n",
       "       [-0.14254654,  1.15782128]])"
      ]
     },
     "execution_count": 51,
     "metadata": {},
     "output_type": "execute_result"
    }
   ],
   "source": [
    "np.tan(a)"
   ]
  },
  {
   "cell_type": "code",
   "execution_count": 52,
   "id": "24acc1cf",
   "metadata": {},
   "outputs": [
    {
     "data": {
      "text/plain": [
       "array([[ 0.54030231, -0.41614684],\n",
       "       [-0.9899925 , -0.65364362]])"
      ]
     },
     "execution_count": 52,
     "metadata": {},
     "output_type": "execute_result"
    }
   ],
   "source": [
    "np.cos(a)"
   ]
  },
  {
   "cell_type": "markdown",
   "id": "bac0976d",
   "metadata": {},
   "source": [
    "# LinSpace() ==  This function returns value between a given range and with a same gape betweeen consicuitve elemets"
   ]
  },
  {
   "cell_type": "code",
   "execution_count": 54,
   "id": "e6009aab",
   "metadata": {},
   "outputs": [
    {
     "data": {
      "text/plain": [
       "array([1.  , 1.25, 1.5 , 1.75, 2.  ])"
      ]
     },
     "execution_count": 54,
     "metadata": {},
     "output_type": "execute_result"
    }
   ],
   "source": [
    "a=np.linspace(1,2,5)\n",
    "a"
   ]
  },
  {
   "cell_type": "code",
   "execution_count": 55,
   "id": "25ba0779",
   "metadata": {},
   "outputs": [],
   "source": [
    "# 1.25 -1 =0.25\n",
    "# 1.50 - 1.25 = 0.25\n",
    "# 1.75 - 1.50 = 0.25\n",
    "# 2 - 1.75 = 0.25"
   ]
  },
  {
   "cell_type": "code",
   "execution_count": 56,
   "id": "408ad5cf",
   "metadata": {},
   "outputs": [
    {
     "data": {
      "text/plain": [
       "array([[16, 11, 13],\n",
       "       [17, 13, 16],\n",
       "       [ 3, 16, 11]])"
      ]
     },
     "execution_count": 56,
     "metadata": {},
     "output_type": "execute_result"
    }
   ],
   "source": [
    "np.random.seed(122)\n",
    "a= np.random.randint(1,21,9).reshape(3,3)\n",
    "a\n"
   ]
  },
  {
   "cell_type": "code",
   "execution_count": 57,
   "id": "533de5a2",
   "metadata": {},
   "outputs": [
    {
     "data": {
      "text/plain": [
       "116"
      ]
     },
     "execution_count": 57,
     "metadata": {},
     "output_type": "execute_result"
    }
   ],
   "source": [
    "np.sum(a)"
   ]
  },
  {
   "cell_type": "code",
   "execution_count": 58,
   "id": "b67bec37",
   "metadata": {},
   "outputs": [
    {
     "data": {
      "text/plain": [
       "array([40, 46, 30])"
      ]
     },
     "execution_count": 58,
     "metadata": {},
     "output_type": "execute_result"
    }
   ],
   "source": [
    "np.sum(a, axis =1) #row wise operation"
   ]
  },
  {
   "cell_type": "code",
   "execution_count": 59,
   "id": "21efc62f",
   "metadata": {},
   "outputs": [
    {
     "data": {
      "text/plain": [
       "array([36, 40, 40])"
      ]
     },
     "execution_count": 59,
     "metadata": {},
     "output_type": "execute_result"
    }
   ],
   "source": [
    "np.sum(a, axis =0) #column wise operation"
   ]
  },
  {
   "cell_type": "code",
   "execution_count": 60,
   "id": "93993a63",
   "metadata": {},
   "outputs": [
    {
     "data": {
      "text/plain": [
       "array([ 16,  27,  40,  57,  70,  86,  89, 105, 116])"
      ]
     },
     "execution_count": 60,
     "metadata": {},
     "output_type": "execute_result"
    }
   ],
   "source": [
    "np.cumsum(a)\n",
    "\n",
    "#cumsum==> a,b,c,d==> a,a+b,a+b+c,a+b+c+d\n"
   ]
  },
  {
   "cell_type": "markdown",
   "id": "3e038a90",
   "metadata": {},
   "source": [
    "# np.unique(arr , return_index =True , return_counts = True)\n",
    "\n",
    "returns 3 array\n",
    "\n",
    "1. The array with unique values\n",
    "\n",
    "2. The array with respective index values \n",
    "\n",
    "3. The array with counting of frequency"
   ]
  },
  {
   "cell_type": "code",
   "execution_count": 63,
   "id": "8513ad33",
   "metadata": {},
   "outputs": [
    {
     "data": {
      "text/plain": [
       "(array([10, 20, 30, 40, 50]),\n",
       " array([0, 1, 2, 3, 4], dtype=int64),\n",
       " array([1, 8, 1, 1, 3], dtype=int64))"
      ]
     },
     "execution_count": 63,
     "metadata": {},
     "output_type": "execute_result"
    }
   ],
   "source": [
    "a=np.array([10,20,30,40,50,20,20,20,20,50,50,20,20,20])\n",
    "np.unique(a , return_index = True , return_counts = True)"
   ]
  },
  {
   "cell_type": "markdown",
   "id": "8c5567ac",
   "metadata": {},
   "source": [
    "# Horizontal  and Vertical Stacking"
   ]
  },
  {
   "cell_type": "code",
   "execution_count": 66,
   "id": "d4b61859",
   "metadata": {},
   "outputs": [],
   "source": [
    "a = np.array([1,2,3,4])\n",
    "b = np.array([5,6,7,8])"
   ]
  },
  {
   "cell_type": "code",
   "execution_count": 67,
   "id": "fa08613d",
   "metadata": {},
   "outputs": [
    {
     "data": {
      "text/plain": [
       "array([5, 6, 7, 8])"
      ]
     },
     "execution_count": 67,
     "metadata": {},
     "output_type": "execute_result"
    }
   ],
   "source": [
    "b"
   ]
  },
  {
   "cell_type": "code",
   "execution_count": 68,
   "id": "a95b3ef5",
   "metadata": {},
   "outputs": [
    {
     "data": {
      "text/plain": [
       "array([1, 2, 3, 4, 5, 6, 7, 8])"
      ]
     },
     "execution_count": 68,
     "metadata": {},
     "output_type": "execute_result"
    }
   ],
   "source": [
    "np.hstack((a,b))"
   ]
  },
  {
   "cell_type": "code",
   "execution_count": 69,
   "id": "9594b072",
   "metadata": {},
   "outputs": [
    {
     "data": {
      "text/plain": [
       "array([[1, 2, 3, 4],\n",
       "       [5, 6, 7, 8]])"
      ]
     },
     "execution_count": 69,
     "metadata": {},
     "output_type": "execute_result"
    }
   ],
   "source": [
    "np.vstack((a,b))"
   ]
  },
  {
   "cell_type": "code",
   "execution_count": 70,
   "id": "d0980b0e",
   "metadata": {},
   "outputs": [],
   "source": [
    "a = np.array([1,2,3,4])\n",
    "b = np.array([5,6,7,8])\n",
    "c = np.array([9,10,11,12])"
   ]
  },
  {
   "cell_type": "code",
   "execution_count": 71,
   "id": "a812f4f9",
   "metadata": {},
   "outputs": [
    {
     "data": {
      "text/plain": [
       "array([5, 6, 7, 8])"
      ]
     },
     "execution_count": 71,
     "metadata": {},
     "output_type": "execute_result"
    }
   ],
   "source": [
    "b"
   ]
  },
  {
   "cell_type": "code",
   "execution_count": 72,
   "id": "3a84822f",
   "metadata": {},
   "outputs": [
    {
     "data": {
      "text/plain": [
       "array([ 1,  2,  3,  4,  5,  6,  7,  8,  9, 10, 11, 12])"
      ]
     },
     "execution_count": 72,
     "metadata": {},
     "output_type": "execute_result"
    }
   ],
   "source": [
    "np.hstack((a,b,c))"
   ]
  },
  {
   "cell_type": "code",
   "execution_count": 73,
   "id": "e8dadc61",
   "metadata": {},
   "outputs": [
    {
     "data": {
      "text/plain": [
       "array([[ 1,  2,  3,  4],\n",
       "       [ 5,  6,  7,  8],\n",
       "       [ 9, 10, 11, 12]])"
      ]
     },
     "execution_count": 73,
     "metadata": {},
     "output_type": "execute_result"
    }
   ],
   "source": [
    "np.stack((a,b,c))"
   ]
  },
  {
   "cell_type": "code",
   "execution_count": null,
   "id": "6f665e2d",
   "metadata": {},
   "outputs": [],
   "source": []
  }
 ],
 "metadata": {
  "kernelspec": {
   "display_name": "Python 3 (ipykernel)",
   "language": "python",
   "name": "python3"
  },
  "language_info": {
   "codemirror_mode": {
    "name": "ipython",
    "version": 3
   },
   "file_extension": ".py",
   "mimetype": "text/x-python",
   "name": "python",
   "nbconvert_exporter": "python",
   "pygments_lexer": "ipython3",
   "version": "3.11.5"
  }
 },
 "nbformat": 4,
 "nbformat_minor": 5
}
